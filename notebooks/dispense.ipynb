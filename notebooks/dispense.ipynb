{
 "cells": [
  {
   "cell_type": "markdown",
   "id": "17b5a7f0-5af9-4a8b-a108-02a24b69625e",
   "metadata": {},
   "source": [
    "# Machine Learning\n",
    "## Jacopo Omodei e Michelangelo Leoni"
   ]
  },
  {
   "cell_type": "code",
   "execution_count": null,
   "id": "6a3d76a6-bf06-4204-882f-1111b9450375",
   "metadata": {},
   "outputs": [],
   "source": [
    "Testing GitHub pull requests system"
   ]
  }
 ],
 "metadata": {
  "kernelspec": {
   "display_name": "Python 3 (ipykernel)",
   "language": "python",
   "name": "python3"
  },
  "language_info": {
   "codemirror_mode": {
    "name": "ipython",
    "version": 3
   },
   "file_extension": ".py",
   "mimetype": "text/x-python",
   "name": "python",
   "nbconvert_exporter": "python",
   "pygments_lexer": "ipython3",
   "version": "3.13.7"
  }
 },
 "nbformat": 4,
 "nbformat_minor": 5
}
