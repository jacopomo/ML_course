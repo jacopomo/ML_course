{
 "cells": [
  {
   "cell_type": "code",
   "execution_count": 3,
   "id": "2ead4012-d7de-4a76-b47f-057bf1aa7af5",
   "metadata": {},
   "outputs": [
    {
     "name": "stdout",
     "output_type": "stream",
     "text": [
      "2.2431975046920716\n"
     ]
    }
   ],
   "source": [
    "import numpy as np\n",
    "\n",
    "a = 3\n",
    "b = 4\n",
    "c = a + np.sin(b)\n",
    "print(c)"
   ]
  },
  {
   "cell_type": "markdown",
   "id": "441e4331-9930-4213-abb0-581a1519b56c",
   "metadata": {},
   "source": [
    "This is raw text (raw)"
   ]
  },
  {
   "cell_type": "markdown",
   "id": "f201965a-937b-4422-9195-929a89db81b8",
   "metadata": {},
   "source": [
    "<a id=\"section_1\"></a>\n",
    "# This is formatted text\n",
    "## It follows HTML conventions\n",
    "#### Select \"Markdown\" on the cell\n",
    "I quickly learned how to use it following \n",
    "[this link](https://www.ibm.com/docs/en/watson-studio-local/1.2.3?topic=notebooks-markdown-jupyter-cheatsheet)\n",
    "\n",
    "\n",
    "<blockquote>Though hopefully this small tutorial will suffice</blockquote>\n",
    "\n",
    "---\n",
    "\n",
    "<code>I can write code in a Markdown section without it being excecutable code</code>\n",
    "\n",
    "I can do mathematical expressions LaTeX style: \\$y=\\alpha x + \\sqrt{\\Gamma_i^3}$\n",
    "\n",
    "I can _emph_, __bold__, or `monospace` text, as well as make a list of things that I like to eat:\n",
    "\n",
    "1. Fish\n",
    "2. Cheese\n",
    "    1. Gorgonzola\n",
    "    2. Brie \n",
    "\n",
    "\n",
    "---\n",
    "\n",
    "[Internal links](#division_ID)\n",
    "\n",
    "\n",
    "You can make tables too:\n",
    "| Day of the week | Hours of lesson | Hours at the gym |\n",
    "| --- | --- | --- |\n",
    "| Monday | 2 | 3.5 |\n",
    "| Tuesday | 6 | 4 |\n",
    "\n",
    "***\n",
    "\n",
    "<div class=\"alert alert-block alert-warning\">\n",
    "<b>Example:</b> Use yellow boxes for examples that are not \n",
    "inside code cells, or use for mathematical formulas if needed.\n",
    "</div>\n",
    "\n",
    "<div class=\"alert alert-block alert-info\">\n",
    "<b>Tip:</b> Use blue boxes (alert-info) for tips and notes. \n",
    "If it’s a note, you don’t have to include the word “Note”.\n",
    "</div>\n",
    "\n",
    "<div class=\"alert alert-block alert-success\">\n",
    "<b>Up to you:</b> Use green boxes sparingly, and only for some specific \n",
    "purpose that the other boxes can't cover. For example, if you have a lot \n",
    "of related content to link to, maybe you decide to use green boxes for \n",
    "related links from each section of a notebook.\n",
    "</div>\n",
    "\n",
    "<div class=\"alert alert-block alert-danger\">\n",
    "<b>Just don't:</b> In general, avoid the red boxes. These should only be\n",
    "used for actions that might cause data loss or another major issue.\n",
    "</div>\n",
    "\n",
    "***"
   ]
  },
  {
   "cell_type": "markdown",
   "id": "20bd69a2-ab06-4148-8324-8422ec862010",
   "metadata": {},
   "source": [
    "I can go back to the [first section](#section_1), and make a sort of table of contents which could prove useful"
   ]
  }
 ],
 "metadata": {
  "kernelspec": {
   "display_name": "base",
   "language": "python",
   "name": "python3"
  },
  "language_info": {
   "codemirror_mode": {
    "name": "ipython",
    "version": 3
   },
   "file_extension": ".py",
   "mimetype": "text/x-python",
   "name": "python",
   "nbconvert_exporter": "python",
   "pygments_lexer": "ipython3",
   "version": "3.12.7"
  }
 },
 "nbformat": 4,
 "nbformat_minor": 5
}
